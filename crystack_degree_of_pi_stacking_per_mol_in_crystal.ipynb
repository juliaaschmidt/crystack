{
 "cells": [
  {
   "cell_type": "code",
   "execution_count": 10,
   "metadata": {},
   "outputs": [],
   "source": [
    "from crystack.interactions import Interactions\n",
    "from crystack import cif2supercell\n",
    "import re\n",
    "import itertools\n",
    "import numpy as np\n",
    "import sys"
   ]
  },
  {
   "cell_type": "code",
   "execution_count": 12,
   "metadata": {},
   "outputs": [
    {
     "name": "stdout",
     "output_type": "stream",
     "text": [
      "There are 54 molecules with the correct #atoms in supercell.\n",
      "<pywindow.molecular.Molecule object at 0x7fb0dc2a6df0>\n",
      "<pywindow.molecular.Molecule object at 0x7fb0dc2a6490>\n",
      "<pywindow.molecular.Molecule object at 0x7fb0dc05d5b0>\n",
      "<pywindow.molecular.Molecule object at 0x7fb0dc05d0a0>\n",
      "<pywindow.molecular.Molecule object at 0x7fb0dc2a6eb0>\n",
      "<pywindow.molecular.Molecule object at 0x7fb0dc2a6fa0>\n",
      "<pywindow.molecular.Molecule object at 0x7fb0dc2a6790>\n",
      "<pywindow.molecular.Molecule object at 0x7fb0dc2a66d0>\n",
      "<pywindow.molecular.Molecule object at 0x7fb0dc2a6730>\n",
      "<pywindow.molecular.Molecule object at 0x7fb0dc05d0d0>\n",
      "<pywindow.molecular.Molecule object at 0x7fb0dc2a6400>\n",
      "<pywindow.molecular.Molecule object at 0x7fb0dc2a65e0>\n",
      "<pywindow.molecular.Molecule object at 0x7fb0dc2a6a00>\n",
      "<pywindow.molecular.Molecule object at 0x7fb0dc05da90>\n",
      "<pywindow.molecular.Molecule object at 0x7fb0dc2a6f40>\n",
      "<pywindow.molecular.Molecule object at 0x7fb0dc05db80>\n"
     ]
    }
   ],
   "source": [
    "# Crystal specifics\n",
    "cif_name = \"opt_1.cif\" #sys.argv[1] #\"opt_1.cif\"\n",
    "n_atoms = 78 #sys.argv[2] #78\n",
    "n_rings = 12 #sys.argv[3] #12\n",
    "\n",
    "# CONSTANTS\n",
    "neighshell_size = 15\n",
    "\n",
    "crystal_no = re.findall(\"[0-9]+\",cif_name)[0]\n",
    "orient_dict = cif2supercell.run_dimer_generator(cif_name, n_atoms, out_mol=neighshell_size)"
   ]
  },
  {
   "cell_type": "code",
   "execution_count": 3,
   "metadata": {},
   "outputs": [],
   "source": [
    "from glob import glob\n",
    "dimer_files = glob('real_dimer*mol')"
   ]
  },
  {
   "cell_type": "code",
   "execution_count": 4,
   "metadata": {},
   "outputs": [],
   "source": [
    "import re \n",
    "pi_stacks = []\n",
    "pi_stack_dir = {}\n",
    "dominant_dir = {}\n",
    "for f in dimer_files: \n",
    "    basen = f.split(\".\")[0]\n",
    "    last_val = re.findall(\"[0-9]+\", basen)\n",
    "    mol_int = int(last_val[-1])\n",
    "    dominant_dir[mol_int] = orient_dict[mol_int]\n",
    "    dimer = Interactions(f\"{basen}\")\n",
    "    dimer.make_mol_obj()\n",
    "    pi_stack_dimer = dimer.calculate_pi_stacks()\n",
    "    pi_stacks.append(pi_stack_dimer)\n",
    "    pi_stack_dir[mol_int] = pi_stack_dimer "
   ]
  },
  {
   "cell_type": "code",
   "execution_count": 5,
   "metadata": {},
   "outputs": [],
   "source": [
    "pi_dists = []\n",
    "pi_angles = []\n",
    "pi_types = []\n",
    "dominant_dir_val = []\n",
    "interacting_mols = []\n",
    "unique_rings_on_mol = []\n",
    "for i, dimer_no in enumerate(pi_stack_dir):\n",
    "    for i, n in enumerate(pi_stack_dir[dimer_no]):\n",
    "       # if (n.type == P):\n",
    "        unique_rings_on_mol.append(n.ringA.center)\n",
    "        pi_dists.append(n.distance)\n",
    "        pi_angles.append(n.angle)\n",
    "        pi_types.append(n.type)\n",
    "        dominant_dir_val.append(dominant_dir[dimer_no])\n",
    "        interacting_mols.append(dimer_no)\n"
   ]
  },
  {
   "cell_type": "code",
   "execution_count": 6,
   "metadata": {},
   "outputs": [],
   "source": [
    "crystal_no = re.findall(\"[0-9]+\",cif_name)[0]"
   ]
  },
  {
   "cell_type": "code",
   "execution_count": 7,
   "metadata": {},
   "outputs": [
    {
     "name": "stdout",
     "output_type": "stream",
     "text": [
      "Final score is 4 out of 12 rings are involved (0.33%).\n"
     ]
    }
   ],
   "source": [
    "import itertools\n",
    "import numpy as np\n",
    "\n",
    "m = unique_rings_on_mol\n",
    "n = [list(i) for i in set(map(tuple, m))]\n",
    "n_rings_involved = len(n)\n",
    "frac = n_rings_involved/n_rings\n",
    "print(f\"Final score is {n_rings_involved} out of {n_rings} rings are involved ({np.round(frac,2)}%).\")"
   ]
  },
  {
   "cell_type": "code",
   "execution_count": 8,
   "metadata": {},
   "outputs": [
    {
     "name": "stdout",
     "output_type": "stream",
     "text": [
      "1,4,12,0.33\n"
     ]
    }
   ],
   "source": [
    "print(f\"{crystal_no},{n_rings_involved},{n_rings},{np.round(frac,2)}\")"
   ]
  },
  {
   "cell_type": "code",
   "execution_count": 9,
   "metadata": {},
   "outputs": [],
   "source": [
    "with open(\"results.csv\", \"a\") as f:\n",
    "    f.write(f\"{crystal_no},{n_rings_involved},{n_rings},{np.round(frac,2)}\\n\")"
   ]
  },
  {
   "cell_type": "code",
   "execution_count": null,
   "metadata": {},
   "outputs": [],
   "source": []
  }
 ],
 "metadata": {
  "kernelspec": {
   "display_name": "py38contacts",
   "language": "python",
   "name": "py38contacts"
  },
  "language_info": {
   "codemirror_mode": {
    "name": "ipython",
    "version": 3
   },
   "file_extension": ".py",
   "mimetype": "text/x-python",
   "name": "python",
   "nbconvert_exporter": "python",
   "pygments_lexer": "ipython3",
   "version": "3.8.8"
  }
 },
 "nbformat": 4,
 "nbformat_minor": 4
}
