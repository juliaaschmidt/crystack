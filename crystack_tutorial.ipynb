{
 "cells": [
  {
   "cell_type": "code",
   "execution_count": 1,
   "metadata": {},
   "outputs": [],
   "source": [
    "from crystack.interactions import Interactions\n",
    "from crystack import cif2supercell"
   ]
  },
  {
   "cell_type": "code",
   "execution_count": 2,
   "metadata": {},
   "outputs": [
    {
     "name": "stdout",
     "output_type": "stream",
     "text": [
      "There are 54 molecules with the correct #atoms in supercell.\n",
      "<pywindow.molecular.Molecule object at 0x7fcf5bf20cd0>\n",
      "<pywindow.molecular.Molecule object at 0x7fcf5bf20070>\n",
      "<pywindow.molecular.Molecule object at 0x7fcf5bf20ac0>\n",
      "<pywindow.molecular.Molecule object at 0x7fcf5bf208e0>\n",
      "<pywindow.molecular.Molecule object at 0x7fcf5bf201c0>\n",
      "<pywindow.molecular.Molecule object at 0x7fcf5bf203d0>\n",
      "<pywindow.molecular.Molecule object at 0x7fcf5bf20820>\n",
      "<pywindow.molecular.Molecule object at 0x7fcf5bf20790>\n",
      "<pywindow.molecular.Molecule object at 0x7fcf5bf20310>\n",
      "<pywindow.molecular.Molecule object at 0x7fcf5bf20100>\n",
      "<pywindow.molecular.Molecule object at 0x7fcf5bf202e0>\n",
      "<pywindow.molecular.Molecule object at 0x7fcf5bf20430>\n",
      "<pywindow.molecular.Molecule object at 0x7fcf5bf202b0>\n",
      "<pywindow.molecular.Molecule object at 0x7fcf5bf20ca0>\n",
      "<pywindow.molecular.Molecule object at 0x7fcf5bf20370>\n",
      "<pywindow.molecular.Molecule object at 0x7fcf5c358b80>\n",
      "2 a\n",
      "17 a\n",
      "15 b\n",
      "3 b\n",
      "0 a\n",
      "13 a\n",
      "11 a\n",
      "5 c\n",
      "23 c\n",
      "6 b\n",
      "9 b\n",
      "4 a\n",
      "20 c\n",
      "8 c\n",
      "25 c\n"
     ]
    }
   ],
   "source": [
    "crystal_name = \"12h_1\"\n",
    "orient_dict = cif2supercell.run_dimer_generator(\"opt_1.cif\", 78, out_mol=15)"
   ]
  },
  {
   "cell_type": "code",
   "execution_count": 3,
   "metadata": {},
   "outputs": [
    {
     "name": "stdout",
     "output_type": "stream",
     "text": [
      "real_dimer_1_20.mol\n",
      "real_dimer_1_9.mol\n",
      "real_dimer_1_23.mol\n",
      "real_dimer_1_8.mol\n",
      "real_dimer_1_25.mol\n",
      "real_dimer_1_3.mol\n",
      "real_dimer_1_15.mol\n",
      "real_dimer_1_2.mol\n",
      "real_dimer_1_0.mol\n",
      "real_dimer_1_17.mol\n",
      "real_dimer_1_5.mol\n",
      "real_dimer_1_13.mol\n",
      "real_dimer_1_4.mol\n",
      "real_dimer_1_6.mol\n",
      "real_dimer_1_11.mol\n"
     ]
    }
   ],
   "source": [
    "from glob import glob\n",
    "dimer_files = glob('real_dimer*mol')\n",
    "for f in dimer_files:\n",
    "    print(f)"
   ]
  },
  {
   "cell_type": "code",
   "execution_count": 4,
   "metadata": {},
   "outputs": [
    {
     "name": "stdout",
     "output_type": "stream",
     "text": [
      "real_dimer_1_20\n",
      "20\n",
      "n_atoms(dimer):  156\n",
      "real_dimer_1_9\n",
      "9\n",
      "n_atoms(dimer):  156\n",
      "real_dimer_1_23\n",
      "23\n",
      "n_atoms(dimer):  156\n",
      "real_dimer_1_8\n",
      "8\n",
      "n_atoms(dimer):  156\n",
      "real_dimer_1_25\n",
      "25\n",
      "n_atoms(dimer):  156\n",
      "real_dimer_1_3\n",
      "3\n",
      "n_atoms(dimer):  156\n",
      "real_dimer_1_15\n",
      "15\n",
      "n_atoms(dimer):  156\n",
      "real_dimer_1_2\n",
      "2\n",
      "n_atoms(dimer):  156\n",
      "real_dimer_1_0\n",
      "0\n",
      "n_atoms(dimer):  156\n",
      "real_dimer_1_17\n",
      "17\n",
      "n_atoms(dimer):  156\n",
      "real_dimer_1_5\n",
      "5\n",
      "n_atoms(dimer):  156\n",
      "real_dimer_1_13\n",
      "13\n",
      "n_atoms(dimer):  156\n",
      "Relevant stack:  3.7353701140434374 Type of Int:  P Offset:  1.2284369926285277\n",
      "Relevant stack:  3.844697156112843 Type of Int:  P Offset:  1.043187945385185\n",
      "Relevant stack:  3.7350967003694957 Type of Int:  P Offset:  0.9678484955171104\n",
      "real_dimer_1_4\n",
      "4\n",
      "n_atoms(dimer):  156\n",
      "Relevant stack:  4.167166140063154 Type of Int:  P Offset:  1.2992785328744927\n",
      "Relevant stack:  4.16683046678035 Type of Int:  P Offset:  1.465447242233528\n",
      "Relevant stack:  4.010252184505773 Type of Int:  P Offset:  1.0802172975517181\n",
      "real_dimer_1_6\n",
      "6\n",
      "n_atoms(dimer):  156\n",
      "real_dimer_1_11\n",
      "11\n",
      "n_atoms(dimer):  156\n"
     ]
    }
   ],
   "source": [
    "import re \n",
    "pi_stacks = []\n",
    "pi_stack_dir = {}\n",
    "dominant_dir = {}\n",
    "for f in dimer_files: \n",
    "    basen = f.split(\".\")[0]\n",
    "    print(basen)\n",
    "    last_val = re.findall(\"[0-9]+\", basen)\n",
    "    mol_int = int(last_val[-1])\n",
    "    print(mol_int)\n",
    "    dominant_dir[mol_int] = orient_dict[mol_int]\n",
    "    dimer = Interactions(f\"{basen}\")\n",
    "    dimer.make_mol_obj()\n",
    "    pi_stack_dimer = dimer.calculate_pi_stacks()\n",
    "    pi_stacks.append(pi_stack_dimer)\n",
    "    pi_stack_dir[mol_int] = pi_stack_dimer "
   ]
  },
  {
   "cell_type": "code",
   "execution_count": 5,
   "metadata": {},
   "outputs": [],
   "source": [
    "\n",
    "# dimer = Interactions(f\"{filepath}\")\n",
    "# dimer.basen\n",
    "# dimer.interacting_mols\n",
    "# dimer.make_mol_obj()\n",
    "#pi_stacks = dimer.calculate_pi_stacks()\n",
    "#dimer.calculate_short_contacts(vdwextra=0.5)\n",
    "#dimer.calculate_short_contacts(vdwextra=0.5)\n",
    "#dimer.calculate_hydrophobic_interactions()"
   ]
  },
  {
   "cell_type": "code",
   "execution_count": 6,
   "metadata": {},
   "outputs": [],
   "source": [
    "# #! not in use\n",
    "# import matplotlib.pyplot as plt\n",
    "\n",
    "# n_hydro = len(dimer.hydro_stacks)\n",
    "# n_pi = len(dimer.pi_stacks)\n",
    "# n_short = len(dimer.short_stacks)\n",
    "# #! not in use\n",
    "# hydro_dists = []\n",
    "# for i, n in enumerate(dimer.hydro_stacks):\n",
    "#     print(n.distance)\n",
    "#     hydro_dists.append(n.distance)"
   ]
  },
  {
   "cell_type": "code",
   "execution_count": 7,
   "metadata": {},
   "outputs": [],
   "source": [
    "# #! not in use\n",
    "# pi_dists = []\n",
    "# for i, sublist in enumerate(pi_stacks):\n",
    "#     for i, n in enumerate(sublist):\n",
    "#         print(n.distance, n.angle, n.type)\n",
    "#         pi_dists.append(n.distance)\n",
    "\n",
    "# pi_dists"
   ]
  },
  {
   "cell_type": "code",
   "execution_count": 8,
   "metadata": {},
   "outputs": [
    {
     "name": "stdout",
     "output_type": "stream",
     "text": [
      "15\n"
     ]
    },
    {
     "data": {
      "text/plain": [
       "{20: 'c',\n",
       " 9: 'b',\n",
       " 23: 'c',\n",
       " 8: 'c',\n",
       " 25: 'c',\n",
       " 3: 'b',\n",
       " 15: 'b',\n",
       " 2: 'a',\n",
       " 0: 'a',\n",
       " 17: 'a',\n",
       " 5: 'c',\n",
       " 13: 'a',\n",
       " 4: 'a',\n",
       " 6: 'b',\n",
       " 11: 'a'}"
      ]
     },
     "execution_count": 8,
     "metadata": {},
     "output_type": "execute_result"
    }
   ],
   "source": [
    "print(len(dominant_dir))\n",
    "dominant_dir"
   ]
  },
  {
   "cell_type": "code",
   "execution_count": 30,
   "metadata": {},
   "outputs": [
    {
     "name": "stdout",
     "output_type": "stream",
     "text": [
      "bridged terminal\n",
      "[24.347333333333335, 13.121666666666668, 40.499833333333335] [21.038, 11.682666666666668, 41.464499999999994]\n",
      "3.7353701140434374 4.606669548916897 P\n",
      "terminal terminal\n",
      "[22.725666666666665, 14.950666666666665, 40.344833333333334] [21.038, 11.682666666666668, 41.464499999999994]\n",
      "3.844697156112843 3.2138557078302217 P\n",
      "terminal bridged\n",
      "[22.725666666666665, 14.950666666666665, 40.344833333333334] [19.416666666666668, 13.511833333333334, 41.30983333333334]\n",
      "3.7350967003694957 10.074263416584044 P\n",
      "bridged terminal\n",
      "[27.04716666666667, 15.986833333333331, 34.181666666666665] [30.551333333333332, 17.694999999999997, 32.70916666666667]\n",
      "4.167166140063154 18.311803724129522 P\n",
      "terminal bridged\n",
      "[27.800666666666668, 17.81683333333333, 35.624833333333335] [31.304666666666673, 19.52466666666667, 34.152499999999996]\n",
      "4.16683046678035 15.803803492987205 P\n",
      "terminal terminal\n",
      "[27.800666666666668, 17.81683333333333, 35.624833333333335] [30.551333333333332, 17.694999999999997, 32.70916666666667]\n",
      "4.010252184505773 2.774456970839765 P\n"
     ]
    }
   ],
   "source": [
    "pi_dists = []\n",
    "pi_angles = []\n",
    "pi_types = []\n",
    "dominant_dir_val = []\n",
    "interacting_mols = []\n",
    "unique_rings_on_mol = []\n",
    "for i, dimer_no in enumerate(pi_stack_dir):\n",
    "    for i, n in enumerate(pi_stack_dir[dimer_no]):\n",
    "        print(n.position_ringA, n.position_ringB)\n",
    "        print(n.ringA.center, n.ringB.center)\n",
    "        unique_rings_on_mol.append(n.ringA.center)\n",
    "        #print(n.pistack)#.center) #print(n[center])\n",
    "        print(n.distance, n.angle, n.type)\n",
    "        pi_dists.append(n.distance)\n",
    "        pi_angles.append(n.angle)\n",
    "        pi_types.append(n.type)\n",
    "        dominant_dir_val.append(dominant_dir[dimer_no])\n",
    "        interacting_mols.append(dimer_no)\n"
   ]
  },
  {
   "cell_type": "code",
   "execution_count": 47,
   "metadata": {},
   "outputs": [
    {
     "data": {
      "text/plain": [
       "[[22.725666666666665, 14.950666666666665, 40.344833333333334],\n",
       " [22.725666666666665, 14.950666666666665, 40.344833333333334],\n",
       " [24.347333333333335, 13.121666666666668, 40.499833333333335],\n",
       " [27.04716666666667, 15.986833333333331, 34.181666666666665],\n",
       " [27.800666666666668, 17.81683333333333, 35.624833333333335],\n",
       " [27.800666666666668, 17.81683333333333, 35.624833333333335]]"
      ]
     },
     "execution_count": 47,
     "metadata": {},
     "output_type": "execute_result"
    }
   ],
   "source": [
    "m = unique_rings_on_mol\n",
    "m"
   ]
  },
  {
   "cell_type": "code",
   "execution_count": 45,
   "metadata": {},
   "outputs": [],
   "source": [
    "import itertools\n",
    "\n",
    "n = [list(i) for i in set(map(tuple, m))]"
   ]
  },
  {
   "cell_type": "code",
   "execution_count": 51,
   "metadata": {},
   "outputs": [
    {
     "data": {
      "text/plain": [
       "0.3333333333333333"
      ]
     },
     "execution_count": 51,
     "metadata": {},
     "output_type": "execute_result"
    }
   ],
   "source": [
    "frac = len(n)/12\n",
    "frac"
   ]
  },
  {
   "cell_type": "code",
   "execution_count": 11,
   "metadata": {},
   "outputs": [
    {
     "data": {
      "image/png": "[encoded data removed]",
      "text/plain": [
       "<Figure size 432x288 with 1 Axes>"
      ]
     },
     "metadata": {
      "needs_background": "light"
     },
     "output_type": "display_data"
    }
   ],
   "source": [
    "import matplotlib.pyplot as plt\n",
    "plt.hist(pi_dists, color=\"dodgerblue\")\n",
    "plt.xlabel(\"Freq\")\n",
    "plt.ylabel(\"π-π stack distance (Å)\", fontsize=14)\n",
    "plt.savefig(f\"Pi_stack_dist_{crystal_name}.png\")"
   ]
  },
  {
   "cell_type": "code",
   "execution_count": 12,
   "metadata": {},
   "outputs": [
    {
     "data": {
      "text/plain": [
       "<matplotlib.collections.PathCollection at 0x7fcf5cf29a30>"
      ]
     },
     "execution_count": 12,
     "metadata": {},
     "output_type": "execute_result"
    },
    {
     "data": {
      "image/png": "[encoded data removed]",
      "text/plain": [
       "<Figure size 432x288 with 1 Axes>"
      ]
     },
     "metadata": {
      "needs_background": "light"
     },
     "output_type": "display_data"
    }
   ],
   "source": [
    "plt.ylabel(\"Angle (degrees)\", fontsize=14)\n",
    "plt.xlabel(\"π-π stack distance (Å)\", fontsize=14)\n",
    "plt.scatter(pi_dists, pi_angles, color=\"dodgerblue\") # hue=pi_types) #c=pi_types)"
   ]
  },
  {
   "cell_type": "code",
   "execution_count": 13,
   "metadata": {},
   "outputs": [
    {
     "name": "stderr",
     "output_type": "stream",
     "text": [
      "/Users/julia/anaconda/envs/py38contacts/lib/python3.8/site-packages/seaborn/_decorators.py:36: FutureWarning: Pass the following variables as keyword args: x, y. From version 0.12, the only valid positional argument will be `data`, and passing other arguments without an explicit keyword will result in an error or misinterpretation.\n",
      "  warnings.warn(\n"
     ]
    },
    {
     "data": {
      "image/png": "[encoded data removed]",
      "text/plain": [
       "<Figure size 432x288 with 1 Axes>"
      ]
     },
     "metadata": {
      "needs_background": "light"
     },
     "output_type": "display_data"
    }
   ],
   "source": [
    "import seaborn as sns \n",
    "import numpy as np\n",
    "# def mean_pi_dist(pi_angles, pi_dists):\n",
    "    \n",
    "#     return theta_mean, d_mean\n",
    "\n",
    "sns.scatterplot(pi_dists, pi_angles, hue=pi_types, c=\"dodgerblue\") #dominant_dir_val\n",
    "plt.scatter(np.mean(pi_dists), np.mean(pi_angles), c=\"lightgreen\")\n",
    "plt.xlabel(\"π-π stack distance (Å)\", fontsize=14)\n",
    "plt.ylabel(\"Angle (degrees)\", fontsize=14)\n",
    "plt.title(f\"{crystal_name}\")\n",
    "plt.savefig(f\"Pi_stacks_{crystal_name}_types.png\", dpi=100)"
   ]
  },
  {
   "cell_type": "code",
   "execution_count": 15,
   "metadata": {},
   "outputs": [
    {
     "name": "stderr",
     "output_type": "stream",
     "text": [
      "/Users/julia/anaconda/envs/py38contacts/lib/python3.8/site-packages/seaborn/_decorators.py:36: FutureWarning: Pass the following variables as keyword args: x, y. From version 0.12, the only valid positional argument will be `data`, and passing other arguments without an explicit keyword will result in an error or misinterpretation.\n",
      "  warnings.warn(\n"
     ]
    },
    {
     "data": {
      "image/png": "[encoded data removed]",
      "text/plain": [
       "<Figure size 432x288 with 1 Axes>"
      ]
     },
     "metadata": {
      "needs_background": "light"
     },
     "output_type": "display_data"
    }
   ],
   "source": [
    "husl_palette = sns.color_palette(\"husl\", 2)\n",
    "sns.scatterplot(pi_dists, pi_angles, hue=interacting_mols, palette=husl_palette) #dominant_dir_val\n",
    "plt.scatter(np.mean(pi_dists), np.mean(pi_angles), marker=\"d\", label=\"mean\")#, c=\"lightgreen\")\n",
    "plt.xlabel(\"π-π stack distance (Å)\", fontsize=14)\n",
    "plt.ylabel(\"Angle (degrees)\", fontsize=14)\n",
    "plt.title(f\"{crystal_name}\")\n",
    "plt.savefig(f\"Pi_stacks_{crystal_name}_interacting_mols.png\", dpi=100)"
   ]
  },
  {
   "cell_type": "code",
   "execution_count": null,
   "metadata": {},
   "outputs": [],
   "source": [
    "\n"
   ]
  }
 ],
 "metadata": {
  "kernelspec": {
   "display_name": "py38contacts",
   "language": "python",
   "name": "py38contacts"
  },
  "language_info": {
   "codemirror_mode": {
    "name": "ipython",
    "version": 3
   },
   "file_extension": ".py",
   "mimetype": "text/x-python",
   "name": "python",
   "nbconvert_exporter": "python",
   "pygments_lexer": "ipython3",
   "version": "3.8.8"
  }
 },
 "nbformat": 4,
 "nbformat_minor": 4
}
