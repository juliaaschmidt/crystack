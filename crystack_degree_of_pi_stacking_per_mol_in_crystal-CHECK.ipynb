{
 "cells": [
  {
   "cell_type": "code",
   "execution_count": 1,
   "metadata": {},
   "outputs": [],
   "source": [
    "from crystack.interactions import Interactions\n",
    "from crystack import cif2supercell\n",
    "import re\n",
    "import itertools\n",
    "import numpy as np\n",
    "import sys"
   ]
  },
  {
   "cell_type": "code",
   "execution_count": 21,
   "metadata": {},
   "outputs": [],
   "source": [
    "from glob import glob\n",
    "dimer_files = glob('./10heli/dim_14/real_dimer*mol')\n",
    "dimer_filesneighshell_size = 15\n",
    "filepath = \"./10heli/dim_14\"\n",
    "cif_name = \"opt_14.cif\"\n",
    "n_rings = 10"
   ]
  },
  {
   "cell_type": "code",
   "execution_count": 31,
   "metadata": {},
   "outputs": [
    {
     "name": "stdout",
     "output_type": "stream",
     "text": [
      "real_dimer_1_9\n",
      "9\n",
      "real_dimer_1_8\n",
      "8\n",
      "real_dimer_1_19\n",
      "19\n",
      "real_dimer_1_24\n",
      "24\n",
      "real_dimer_1_3\n",
      "3\n",
      "real_dimer_1_15\n",
      "15\n",
      "real_dimer_1_2\n",
      "2\n",
      "real_dimer_1_0\n",
      "0\n",
      "real_dimer_1_17\n",
      "17\n",
      "real_dimer_1_5\n",
      "5\n",
      "real_dimer_1_13\n",
      "13\n",
      "real_dimer_1_4\n",
      "4\n",
      "real_dimer_1_6\n",
      "6\n",
      "real_dimer_1_10\n",
      "10\n",
      "real_dimer_1_7\n",
      "7\n"
     ]
    }
   ],
   "source": [
    "import re \n",
    "pi_stacks = []\n",
    "pi_stack_dir = {}\n",
    "dominant_dir = {}\n",
    "for f in dimer_files: \n",
    "    base = f.split(\"/\")[-1]\n",
    "    basen = base.split(\".\")[0]\n",
    "    print(basen)\n",
    "    last_val = re.findall(\"[0-9]+\", basen)\n",
    "    mol_int = int(last_val[-1])\n",
    "    print(mol_int)\n",
    "    #dominant_dir[mol_int] = orient_dict[mol_int]\n",
    "    dimer = Interactions(f\"{filepath}/{basen}\")\n",
    "    dimer.make_mol_obj()\n",
    "    pi_stack_dimer = dimer.calculate_pi_stacks()\n",
    "    pi_stacks.append(pi_stack_dimer)\n",
    "    pi_stack_dir[mol_int] = pi_stack_dimer "
   ]
  },
  {
   "cell_type": "code",
   "execution_count": 35,
   "metadata": {},
   "outputs": [
    {
     "name": "stdout",
     "output_type": "stream",
     "text": [
      "4.712239671559823 P\n",
      "3.8235580215872784 P\n",
      "4.798465891997842 P\n",
      "3.9870144079108694 P\n",
      "4.507402004850831 P\n",
      "3.988199151524687 P\n",
      "3.8283082062736558 P\n",
      "4.051263825441803 P\n",
      "3.8285337779480106 P\n",
      "4.05153874746648 P\n",
      "3.9883586048788437 P\n",
      "3.9874536326109453 P\n",
      "4.712563807407693 P\n",
      "4.5080152013447705 P\n",
      "3.824234251600064 P\n"
     ]
    }
   ],
   "source": [
    "pi_dists = []\n",
    "pi_angles = []\n",
    "pi_types = []\n",
    "dominant_dir_val = []\n",
    "interacting_mols = []\n",
    "unique_rings_on_mol = []\n",
    "for i, dimer_no in enumerate(pi_stack_dir):\n",
    "    for i, n in enumerate(pi_stack_dir[dimer_no]):\n",
    "        if (n.type == \"P\"):\n",
    "            print(n.distance, n.type)\n",
    "            unique_rings_on_mol.append(n.ringA.center)\n",
    "            pi_dists.append(n.distance)\n",
    "            pi_angles.append(n.angle)\n",
    "            pi_types.append(n.type)\n",
    "           # dominant_dir_val.append(dominant_dir[dimer_no])\n",
    "            interacting_mols.append(dimer_no)\n"
   ]
  },
  {
   "cell_type": "code",
   "execution_count": 24,
   "metadata": {},
   "outputs": [],
   "source": [
    "crystal_no = re.findall(\"[0-9]+\",cif_name)[0]"
   ]
  },
  {
   "cell_type": "code",
   "execution_count": 25,
   "metadata": {},
   "outputs": [
    {
     "name": "stdout",
     "output_type": "stream",
     "text": [
      "Final score is 8 out of 10 rings are involved (0.8%).\n"
     ]
    }
   ],
   "source": [
    "import itertools\n",
    "import numpy as np\n",
    "\n",
    "m = unique_rings_on_mol\n",
    "n = [list(i) for i in set(map(tuple, m))]\n",
    "n_rings_involved = len(n)\n",
    "frac = n_rings_involved/n_rings\n",
    "print(f\"Final score is {n_rings_involved} out of {n_rings} rings are involved ({np.round(frac,2)}%).\")"
   ]
  },
  {
   "cell_type": "code",
   "execution_count": 26,
   "metadata": {},
   "outputs": [
    {
     "name": "stdout",
     "output_type": "stream",
     "text": [
      "14,8,10,0.8\n"
     ]
    }
   ],
   "source": [
    "print(f\"{crystal_no},{n_rings_involved},{n_rings},{np.round(frac,2)}\")"
   ]
  },
  {
   "cell_type": "code",
   "execution_count": 27,
   "metadata": {},
   "outputs": [],
   "source": []
  },
  {
   "cell_type": "code",
   "execution_count": null,
   "metadata": {},
   "outputs": [],
   "source": []
  }
 ],
 "metadata": {
  "kernelspec": {
   "display_name": "py38contacts",
   "language": "python",
   "name": "py38contacts"
  },
  "language_info": {
   "codemirror_mode": {
    "name": "ipython",
    "version": 3
   },
   "file_extension": ".py",
   "mimetype": "text/x-python",
   "name": "python",
   "nbconvert_exporter": "python",
   "pygments_lexer": "ipython3",
   "version": "3.8.8"
  }
 },
 "nbformat": 4,
 "nbformat_minor": 4
}
